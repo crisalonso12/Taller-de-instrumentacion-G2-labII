{
 "cells": [
  {
   "cell_type": "markdown",
   "id": "b26032c9",
   "metadata": {},
   "source": [
    "<center>\n",
    "    \n",
    "    \n",
    "# Taller de instrumentación \n",
    "## Laboratorio II: Diseño de un sistema de adquisición de datos. \n",
    "## Parte I\n",
    "</center>\n",
    "    \n",
    "    \n",
    "## Estudiantes:\n",
    "Luis Diego Trejos Madrid\n",
    "\n",
    "Natalia María Navarro Vega\n",
    "\n",
    "Cristian Alonso Arias Vargas\n",
    "\n",
    "\n",
    "\n",
    "\n",
    "<center>\n",
    "II Semestre 2023\n",
    "</center>"
   ]
  },
  {
   "cell_type": "markdown",
   "id": "ce48122c",
   "metadata": {},
   "source": [
    "## DISEÑO DEL CIRCUITO\n",
    "\n",
    "&nbsp;&nbsp;&nbsp; A continuación se presenta las simulaciones y las mediciones del laboratorio tomados a partir del circuito propuesto."
   ]
  },
  {
   "cell_type": "markdown",
   "id": "b4e4092c",
   "metadata": {},
   "source": [
    "### Etapa diferencial y de aislamiento\n",
    "\n",
    "&nbsp;&nbsp;&nbsp; La etapa de aislamiento esta dividido en tres etapas: etapa diferencial, etapa del amplificador transcondutctor y por último, la etapa de aislamiento (octocoplador).\n",
    "\n",
    "#### Etapa diferencial:\n",
    "\n",
    "&nbsp;&nbsp;&nbsp; Esta etapa es la encargada de tomar las señales positiva y negativa de la termocupla, para pasarla como una sola señal al resto del circuito. En la imagen se muestra un amplificador diferencial, cuyas entradas de tensión V7 y V12 actúan como las terminales de la termocupla.  \n",
    "\n",
    "\n",
    "\n",
    "\n",
    "![diferencial](Etapa_diferencial.png)\n",
    "\n",
    "\n",
    "Es importante destacar que V11 es una fuente que varía de 0 a 2 voltios para modelar el comportamiento del circuito usando la herramienta de DC sweep, la variable utilizada en el sweep para recorrer el rango de tensiones es la letra “O”.  \n",
    "\n",
    "\n",
    "#### Etapa Amplificador Transconductor:\n",
    "\n",
    "&nbsp;&nbsp;&nbsp; Esta configuración trabaja junto al diodo del optoacoplador como un amplificador transconductor, cuya función es transformar la tensión en su entrada no inversora (la salida de la etapa anterior) en una corriente proporcional a su salida que permita polarizar el diodo del optoacoplador.\n",
    "Es importante mencionar que la tensión máxima a la entrada del optoacoplador no debe superar los 2 voltios, por lo que muchos valores tanto de esta etapa como de la anterior se modelaron para no sobrepasar dicho limite.  \n",
    "\n",
    "\n",
    "\n",
    "\n",
    "![transconductor](Amplificador_transconductor.png)\n",
    "\n",
    "\n",
    "#### Etapa del octocoplador:\n",
    "\n",
    "&nbsp;&nbsp;&nbsp; Como se mencionó anteriormente, la corriente y la tensión generada en la etapa anterior son las encargadas de polarizar el diodo del optoacoplador, que a su vez, permite el paso de corriente en el transistor brindando una tensión de salida en la resistencia R19 que será procesada en siguientes etapas. Realizando las pruebas de laboratorio, se pudo observar como el aislamiento eléctrico de las tierras se realizó correctamente y las mediciones en las diferentes etapas del circuito eran congruentes con lo esperado.\n",
    "También se adjunta una captura del DC sweep aplicado al circuito entero donde el eje horizontal son las entradas que simulan ser las entradas de la termocupla, y el eje vertical es la tensión de salida. Se puede ver como existe una relación lineal después de los 1.6V, sin embargo, esta solo se mantiene durante 100mV aproximadamente.  \n",
    "\n",
    "\n",
    "\n",
    "![eocto](Octocoplador.png)\n",
    "\n",
    "\n",
    "#### Circuito de aislamiento simulado completo:  \n",
    "\n",
    "\n",
    "\n",
    "\n",
    "![octocoplador](Etapa octocoplador.png)\n",
    "\n",
    "\n",
    "#### Circuito físico:  \n",
    "\n",
    "\n",
    "\n",
    "\n",
    "![octo_fisico](Circuito_octo_fisico.jpg)\n",
    "\n"
   ]
  },
  {
   "cell_type": "markdown",
   "id": "e9217e6f",
   "metadata": {},
   "source": [
    "### Etapa de Ganancia\n",
    "\n",
    "&nbsp;&nbsp;&nbsp; Los circuitos elaborados para esta etapa constan de 3 amplificadores, con el primero se invierte la señal de entrada y la vez se busca establecer las diferentes ganancias o atenuaciones, con el segundo se revierte la inversión, y con el tercero lo que se busca es mediante un amplificador diferencial realizar un offset a la señal que se quiere a la salida. Para lograr la atenuación o la ganancia se usa configuración de 2 resistencias, R1 = 10 kΩ y R2 variable, las cuales forman un divisor de tensión. En la siguiente tabla se resume los valores de ganacia y resistencia R2 para las 6 configuraciones propuestas.\n",
    "\n",
    "| Configuración | R2 (Ω) | Ganancia |\n",
    "|:-------------:|:------:|:--------:|\n",
    "| 1 | 2.2 k | 0.22 |\n",
    "| 2 | 4.7 k | 0.47 |\n",
    "| 3 | 10 k | 1 |\n",
    "| 4 | 22 k | 2.2 |\n",
    "| 5 | 32 k | 3.2 |\n",
    "| 6 | 47 k | 4.7 |\n",
    "\n",
    "Seguidamente se pueden observar los circuitos tanto en simulación como físico.\n",
    "\n",
    "#### Simulación"
   ]
  },
  {
   "cell_type": "markdown",
   "id": "2290c46c",
   "metadata": {},
   "source": [
    "![gain](Etapa_ganancia.png)"
   ]
  },
  {
   "cell_type": "markdown",
   "id": "20ffeec5",
   "metadata": {},
   "source": [
    "#### Circuito físico"
   ]
  },
  {
   "cell_type": "markdown",
   "id": "a80f7689",
   "metadata": {},
   "source": [
    "![fisico](Circuito_físico.jpeg)"
   ]
  },
  {
   "cell_type": "markdown",
   "id": "cdf76a09",
   "metadata": {},
   "source": [
    "## Resultados\n",
    "\n",
    "&nbsp;&nbsp;&nbsp; En el siguiente apartado se compararán los resultados obtenidos a partir del circuito físico, con respecto a las simulaciones hechas en la aplicación Proteus.\n",
    "\n",
    "### Etapa de ganancias:\n",
    "\n",
    "#### Configuración 1, ganancia de 0.22\n",
    "\n",
    "##### Simulación:\n",
    "\n"
   ]
  },
  {
   "cell_type": "markdown",
   "id": "a0602d73",
   "metadata": {},
   "source": [
    "![Simu1](Simu1.png)"
   ]
  },
  {
   "cell_type": "markdown",
   "id": "bcf15b0d",
   "metadata": {},
   "source": [
    "##### Circuito físico:"
   ]
  },
  {
   "cell_type": "markdown",
   "id": "7e3c8ad3",
   "metadata": {},
   "source": [
    "![cir1](cir1.JPEG)"
   ]
  },
  {
   "cell_type": "markdown",
   "id": "711cdcea",
   "metadata": {},
   "source": [
    "#### Configuración 2, ganancia de 0.47\n",
    "\n",
    "##### Simulación:"
   ]
  },
  {
   "cell_type": "markdown",
   "id": "f04241c4",
   "metadata": {},
   "source": [
    "![Simu2](Simu2.png)"
   ]
  },
  {
   "cell_type": "markdown",
   "id": "e555d015",
   "metadata": {},
   "source": [
    "##### Circuito físico:"
   ]
  },
  {
   "cell_type": "markdown",
   "id": "afc9e2cf",
   "metadata": {},
   "source": [
    "![cir2](cir2.JPEG)"
   ]
  },
  {
   "cell_type": "markdown",
   "id": "ee8ed11a",
   "metadata": {},
   "source": [
    "#### Configuración 3, ganancia de 1\n",
    "\n",
    "##### Simulación:"
   ]
  },
  {
   "cell_type": "markdown",
   "id": "a5a2b6d3",
   "metadata": {},
   "source": [
    "![Simu3](Simu3.png)"
   ]
  },
  {
   "cell_type": "markdown",
   "id": "7af0a71e",
   "metadata": {},
   "source": [
    "##### Circuito físico:"
   ]
  },
  {
   "cell_type": "markdown",
   "id": "c9803ba8",
   "metadata": {},
   "source": [
    "![cir3](cir3.JPEG)"
   ]
  },
  {
   "cell_type": "markdown",
   "id": "3dc63409",
   "metadata": {},
   "source": [
    "#### Configuración 4, ganancia de 2.2\n",
    "\n",
    "##### Simulación:"
   ]
  },
  {
   "cell_type": "markdown",
   "id": "6ffc0ec1",
   "metadata": {},
   "source": [
    "![Simu4](Simu4.png)"
   ]
  },
  {
   "cell_type": "markdown",
   "id": "3c848ccd",
   "metadata": {},
   "source": [
    "##### Circuito físico:"
   ]
  },
  {
   "cell_type": "markdown",
   "id": "deea681f",
   "metadata": {},
   "source": [
    "![cir4](cir4.JPEG)"
   ]
  },
  {
   "cell_type": "markdown",
   "id": "6cf429e9",
   "metadata": {},
   "source": [
    "#### Circuito completo de ganancia\n",
    "\n",
    "Por último, teniendo en cuenta que esta etapa constaba de 3 amplificadores, en las siguientes imágenes es posible observar el comportamiento que se tiene en la salida de todo el circuito.\n",
    "\n",
    "##### Simulación:"
   ]
  },
  {
   "cell_type": "markdown",
   "id": "8636edf4",
   "metadata": {},
   "source": [
    "![Simu5](Simu5.png)"
   ]
  },
  {
   "cell_type": "markdown",
   "id": "fe84ad19",
   "metadata": {},
   "source": [
    "##### Circuito físico:"
   ]
  },
  {
   "cell_type": "markdown",
   "id": "bc82c65a",
   "metadata": {},
   "source": [
    "![cir5](cir5.JPEG)"
   ]
  },
  {
   "cell_type": "markdown",
   "id": "d2d09386",
   "metadata": {},
   "source": [
    "![comportamiento](Grafico_de_comportamiento.png)\n",
    "\n",
    "[Vídeo de la etapa de ganancia](https://estudianteccr-my.sharepoint.com/:v:/g/personal/diego195_estudiantec_cr/ERJO18t73yxAq6nM7IcLyRcBsLdDSzrKQSapLV08-0WGww?nav=eyJyZWZlcnJhbEluZm8iOnsicmVmZXJyYWxBcHAiOiJPbmVEcml2ZUZvckJ1c2luZXNzIiwicmVmZXJyYWxBcHBQbGF0Zm9ybSI6IldlYiIsInJlZmVycmFsTW9kZSI6InZpZXciLCJyZWZlcnJhbFZpZXciOiJNeUZpbGVzTGlua0RpcmVjdCJ9fQ&e=3I1rCL)\n",
    "\n",
    "[Vídeo de la etapa de aislamiento](https://estudianteccr-my.sharepoint.com/:v:/g/personal/diego195_estudiantec_cr/EcsBYm6qJMZCqI3MmPwIEr8BP0x6EfizBLibZ-MVt8BI5Q?nav=eyJyZWZlcnJhbEluZm8iOnsicmVmZXJyYWxBcHAiOiJPbmVEcml2ZUZvckJ1c2luZXNzIiwicmVmZXJyYWxBcHBQbGF0Zm9ybSI6IldlYiIsInJlZmVycmFsTW9kZSI6InZpZXciLCJyZWZlcnJhbFZpZXciOiJNeUZpbGVzTGlua0RpcmVjdCJ9fQ&e=HjZxAY)"
   ]
  },
  {
   "cell_type": "markdown",
   "id": "554d157e",
   "metadata": {},
   "source": [
    "#### Código ADC\n",
    "\n",
    "void setup() {  \n",
    "  pinMode(A0, INPUT);\n",
    "  pinMode(A1, INPUT);  \n",
    "  \n",
    "  Serial.begin(9600);\n",
    "}\n",
    "\n",
    "void loop() {  \n",
    "  const unsigned long tiempo_entre_muestras = 200;\n",
    "\n",
    "  unsigned long tiempo_inicio = micros();  \n",
    "  while (micros() - tiempo_inicio < tiempo_entre_muestras) {\n",
    "    \n",
    "    // primer canal (A0)\n",
    "    int valor_canal_0 = analogRead(A0);\n",
    "    \n",
    "    float voltaje_canal_0 = (valor_canal_0 / 1023.0) * 5.0;\n",
    "    voltaje_canal_0 = (voltaje_canal_0 - 2.5) * 1.0;\n",
    "    \n",
    "    // segundo canal (A1)\n",
    "    int valor_canal_1 = analogRead(A1);\n",
    "    \n",
    "    float voltaje_canal_1 = (valor_canal_1 / 1023.0) * 5.0;\n",
    "    voltaje_canal_1 = (voltaje_canal_1 - 2.5) * 1.0;\n",
    "    \n",
    "  \n",
    "    Serial.print(\"Canal 1: \");\n",
    "    Serial.print(voltaje_canal_0);\n",
    "    Serial.println(\" V\");\n",
    "    \n",
    "    Serial.print(\"Canal 2: \");\n",
    "    Serial.print(voltaje_canal_1);\n",
    "    Serial.println(\" V\");\n",
    "  }\n",
    "\n",
    "  \n",
    "  delay(1);  \n",
    "}"
   ]
  },
  {
   "cell_type": "markdown",
   "id": "9761a2e1",
   "metadata": {},
   "source": [
    "## Conclusiones\n",
    "\n",
    "*1.* Mediante la implementación de las diferentes configuraciones de amplificadores se obtuvo el comportamiento esperado, al programar diversas ganancias. \n",
    "\n",
    "*2.* Comparando lo obtenido tanto en simulación como en físico es posible comprobar que se está obteniendo el mismo comportamiento en ambos casos usando los mismo amplificadores y valores de resistencias. \n",
    "\n",
    "*3.* Como punto de mejora se debe de tener en consideración que si se busca unir dos etapas deben de estar alimentadas a la misma tensión para que no de presenten problemas con las tierras. \n",
    "    \n",
    "## Recomendaciones\n",
    "\n",
    "&nbsp;&nbsp;&nbsp; Como mejora del diseño actual se plantea la posibilidad de usar un LM3914 para representar de mejor forma un comportamiento lineal, sin embargo, esta configuración se debe hacer teniendo en cuenta los parámetros de tensión y corriente que necesitan otros componentes del circuito."
   ]
  }
 ],
 "metadata": {
  "kernelspec": {
   "display_name": "Python 3 (ipykernel)",
   "language": "python",
   "name": "python3"
  },
  "language_info": {
   "codemirror_mode": {
    "name": "ipython",
    "version": 3
   },
   "file_extension": ".py",
   "mimetype": "text/x-python",
   "name": "python",
   "nbconvert_exporter": "python",
   "pygments_lexer": "ipython3",
   "version": "3.11.4"
  }
 },
 "nbformat": 4,
 "nbformat_minor": 5
}
